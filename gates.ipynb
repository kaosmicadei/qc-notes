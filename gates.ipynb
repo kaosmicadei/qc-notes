{
 "cells": [
  {
   "cell_type": "markdown",
   "metadata": {},
   "source": [
    "# quantum gates"
   ]
  },
  {
   "cell_type": "code",
   "execution_count": 1,
   "metadata": {},
   "outputs": [],
   "source": [
    "include(\"utils.jl\");"
   ]
  },
  {
   "cell_type": "markdown",
   "metadata": {},
   "source": [
    "---\n",
    "## Primitive gates\n",
    "Quantum information process can be achived using a small set of operations (gates) combining the Pauli matrices $\\mathbb{I}$, $\\sigma_x$, $\\sigma_y$, $\\sigma_z$ (or simply: $\\mathbb{I}$, $X$, $Y$, $Z$) and a two-qubits gates (usually the $C_{not}$ gate). Here I will call **primitive gate** any operation that cannot (or don't need) to be factorised and can be seem as a single instruction in a *quantum processor unit* (QPU)."
   ]
  },
  {
   "cell_type": "code",
   "execution_count": 2,
   "metadata": {},
   "outputs": [],
   "source": [
    "# identity\n",
    "id = Matrix(I,2,2)\n",
    "\n",
    "xgate = [0 1;\n",
    "         1 0]\n",
    "\n",
    "ygate = [0 -im;\n",
    "         im  0]\n",
    "\n",
    "zgate = [1  0;\n",
    "         0 -1];"
   ]
  },
  {
   "cell_type": "markdown",
   "metadata": {},
   "source": [
    "### two-qubits gates\n",
    "These gates can actually be implemented in terms of each other so, it's enough that one of them is available as a native operation on the QPU. Usually that means the $Z \\otimes Z$ interaction since most of physical systems fall either in the Ising model\n",
    "$$H_{ising} = - \\sum_n \\omega_n \\sigma_n^z - \\sum_{i,j} J_{ij} \\sigma_i^z \\sigma_j^z$$\n",
    "or in the Heisenberg model\n",
    "$$H_{heisenberg} = - \\sum_n \\omega_n \\sigma_n^z - \\sum_n J_n^x \\sigma_n^x \\sigma_{n+1}^x - \\sum_n J_n^y \\sigma_n^y \\sigma_{n+1}^y - \\sum_n J_n^z \\sigma_n^z \\sigma_{n+1}^z$$\n"
   ]
  },
  {
   "cell_type": "code",
   "execution_count": 3,
   "metadata": {},
   "outputs": [],
   "source": [
    "# In both, Ising and Heisenberg model, the Z⊗Z interaction is\n",
    "# consider part of the natural evolution of the given system.\n",
    "zzgate = zgate ⊗ zgate\n",
    "\n",
    "czgate = [1 0 0 0;\n",
    "          0 1 0 0;\n",
    "          0 0 1 0;\n",
    "          0 0 0 -1]\n",
    "\n",
    "cnotgate = [1 0 0 0;\n",
    "            0 1 0 0;\n",
    "            0 0 0 1;\n",
    "            0 0 1 0]\n",
    "\n",
    "# Although a swap operation is not a primitive gate, some platforms like\n",
    "# trapped-ions allow physical swap which can be seem as a primitive operation.\n",
    "swapgate = [1 0 0 0;\n",
    "            0 0 1 0;\n",
    "            0 1 0 0;\n",
    "            0 0 0 1];"
   ]
  },
  {
   "cell_type": "markdown",
   "metadata": {},
   "source": [
    "---\n",
    "## Primitive rotations\n",
    "In a QPU the standard qubit operations are in fact rotations $e^{-i\\frac{\\theta}{2} G}$ in the Bloch sphere where the factor ½ comes from the algebra of ½-spins. So, being more accurate, the real primitive operations for a single qubit are the rotations $R_X$, $R_Y$, $R_Z$ and for two-qubits it's enough have $R_{ZZ}$."
   ]
  },
  {
   "cell_type": "code",
   "execution_count": 4,
   "metadata": {},
   "outputs": [],
   "source": [
    "rx(θ) = exp(-im * θ/2 * xgate)\n",
    "ry(θ) = exp(-im * θ/2 * ygate)\n",
    "rz(θ) = exp(-im * θ/2 * zgate)\n",
    "\n",
    "# As said before, the Z⊗Z interaction\n",
    "# is a natural term in many platforms\n",
    "rzz(θ) = exp(-im * θ/2 * zzgate);"
   ]
  },
  {
   "cell_type": "markdown",
   "metadata": {},
   "source": [
    "---\n",
    "## Factorising single-qubits gates\n",
    "The standard gates $X$, $Y$, and $Z$ are implemented using rotations in the respective directions which also adds a global $\\frac{\\pi}{2}$-phases to the state,\n",
    "\n",
    "$$R_X(\\pi) = \\begin{bmatrix}\n",
    "0 & -i \\\\\n",
    "-i & 0\n",
    "\\end{bmatrix} \\implies X = e^{i\\frac{\\pi}{2}} R_X(\\pi) ,$$\n",
    "\n",
    "$$R_Y(\\pi) = \\begin{bmatrix}\n",
    "0 & -1 \\\\\n",
    "1 & 0\n",
    "\\end{bmatrix} \\implies Y = e^{i\\frac{\\pi}{2}} R_Y(\\pi) ,$$\n",
    "\n",
    "$$R_Z(\\pi) = \\begin{bmatrix}\n",
    "-i & 0 \\\\\n",
    "0 & i\n",
    "\\end{bmatrix} \\implies Z = e^{i\\frac{\\pi}{2}} R_Z(\\pi) .$$\n",
    "\n",
    "Since global phases are most of the time irrelevants we can simplify the definitions as\n",
    "$$X \\equiv R_X(\\pi), \\quad Z \\equiv R_Z(\\pi), \\quad Z \\equiv R_Z(\\pi)$$\n",
    "\n",
    "### Hadamard\n",
    "Although it's one of the generator of the Clifford group, the standard Hadamard gate,\n",
    "$$\\mathrm{H} = \\frac{1}{\\sqrt{2}} \\begin{bmatrix}\n",
    "1 & 1 \\\\\n",
    "1 & -1\n",
    "\\end{bmatrix}, $$\n",
    "is not a primitive gate. However, it can be seen as a $\\frac{\\pi}{2}$ rotation around $Y$,\n",
    "$$R_Y(\\pi/2) = \\frac{1}{\\sqrt{2}} \\begin{bmatrix}\n",
    "1 & -1 \\\\\n",
    "1 & 1\n",
    "\\end{bmatrix} .$$\n",
    "This rotation moves $|1\\rangle \\to -|-\\rangle$. Usually this extra phase is irrelevante, but we can remove it by apply a $Z$ gate,\n",
    "$$\\mathrm{H} = \\frac{1}{\\sqrt{2}} \\,\\begin{bmatrix}\n",
    "1 & 1 \\\\\n",
    "1 & -1\n",
    "\\end{bmatrix} = e^{i\\frac{\\pi}{2}} R_Y (\\pi/2) R_Z (\\pi) .$$\n",
    "\n",
    "Ommiting the global phase it can be reduces to\n",
    "$$\\mathrm{H} \\equiv R_Y (\\pi/2) R_Z (\\pi) .$$"
   ]
  },
  {
   "cell_type": "code",
   "execution_count": 6,
   "metadata": {},
   "outputs": [
    {
     "data": {
      "text/plain": [
       "2×2 Matrix{Float64}:\n",
       " 0.707107   0.707107\n",
       " 0.707107  -0.707107"
      ]
     },
     "execution_count": 6,
     "metadata": {},
     "output_type": "execute_result"
    }
   ],
   "source": [
    "hadamard = global_phase(π/2) * ry(π/2) * rz(π)\n",
    "\n",
    "hadamard |> real"
   ]
  },
  {
   "cell_type": "markdown",
   "metadata": {},
   "source": [
    "\n",
    "### phase gate\n",
    "Anothe generator of the Clifford group is the phase gate\n",
    "$$S = \\begin{bmatrix}\n",
    "1 & 0 \\\\\n",
    "0 & i\n",
    "\\end{bmatrix} = \\sqrt{Z} = e^{i\\frac{\\pi}{4}} R_Z(\\pi/2) \\implies S \\equiv R_Z(\\pi/2) .$$\n",
    "\n",
    "To construct a full universal gate set we also need the $T$ gate which is defined as $T = \\sqrt{S}$ or $T \\equiv R_Z(\\pi/4)$."
   ]
  },
  {
   "cell_type": "code",
   "execution_count": 43,
   "metadata": {},
   "outputs": [
    {
     "data": {
      "text/plain": [
       "2×2 Matrix{ComplexF64}:\n",
       " 1.0+0.0im  0.0+0.0im\n",
       " 0.0+0.0im  0.0+1.0im"
      ]
     },
     "execution_count": 43,
     "metadata": {},
     "output_type": "execute_result"
    }
   ],
   "source": [
    "sgate = global_phase(π/4) * rz(π/2)\n",
    "\n",
    "sgate |> sparsefy"
   ]
  },
  {
   "cell_type": "markdown",
   "metadata": {},
   "source": [
    "\n",
    "### universal gates using rotations\n",
    "A full set of universal gates can be created using $R_X$, $R_Y$, $R_Z$, and the _general phase gate_\n",
    "$$P(\\theta) = \\begin{bmatrix}\n",
    "1 & 0 \\\\\n",
    "0 & e^{i\\theta}\n",
    "\\end{bmatrix}$$\n",
    "which can be written as $P(\\theta) = e^{i\\frac{\\theta}{2}} R_Z(\\theta)$. This implies that in order to have a full set of universal gates one needs only $R_X$, $R_Y$, $R_Z$, and $R_{ZZ}$."
   ]
  },
  {
   "cell_type": "code",
   "execution_count": 45,
   "metadata": {},
   "outputs": [],
   "source": [
    "pgate(θ) = global_phase(θ/2) * rx(θ);"
   ]
  },
  {
   "cell_type": "markdown",
   "metadata": {},
   "source": [
    "---\n",
    "## Factorising two-qubits gates\n",
    "\n",
    "### $ZZ$ gate and two-qubits phase gate\n",
    "Similar to the single-qubit gates, the $ZZ$ gate can be obtained by a $R_{ZZ}$ rotation meaning\n",
    "\n",
    "$$ZZ = \\begin{bmatrix}\n",
    "1 & 0 & 0 & 0 \\\\\n",
    "0 & -1 & 0 & 0 \\\\\n",
    "0 & 0 & -1 & 0 \\\\\n",
    "0 & 0 & 0 & 1\n",
    "\\end{bmatrix} = e^{i\\frac{\\pi}{2}} R_{ZZ}(\\pi) \\implies ZZ \\equiv R_{ZZ}(\\pi) .$$\n"
   ]
  },
  {
   "cell_type": "code",
   "execution_count": 32,
   "metadata": {},
   "outputs": [
    {
     "data": {
      "text/plain": [
       "4×4 Matrix{Int64}:\n",
       " 1   0   0  0\n",
       " 0  -1   0  0\n",
       " 0   0  -1  0\n",
       " 0   0   0  1"
      ]
     },
     "execution_count": 32,
     "metadata": {},
     "output_type": "execute_result"
    }
   ],
   "source": [
    "zz_rzz = global_phase(π/2) * rzz(π)\n",
    "\n",
    "zz_rzz |> real |> roundint "
   ]
  },
  {
   "cell_type": "markdown",
   "metadata": {},
   "source": [
    "\n",
    "Analogous to the single-qubit phase gate $S$, we can define a two-quibits phase gate $\\Pi$ as\n",
    "\n",
    "$$\\Pi = \\begin{bmatrix}\n",
    "1 & 0 & 0 & 0 \\\\\n",
    "0 & i & 0 & 0 \\\\\n",
    "0 & 0 & i & 0 \\\\\n",
    "0 & 0 & 0 & 1\n",
    "\\end{bmatrix} = \\begin{bmatrix}\n",
    "S & 0 \\\\\n",
    "0 & iS^\\dagger\n",
    "\\end{bmatrix} = \\sqrt{ZZ} \\implies \\Pi \\equiv R_{ZZ}(\\pi/2) .$$"
   ]
  },
  {
   "cell_type": "code",
   "execution_count": 47,
   "metadata": {},
   "outputs": [
    {
     "data": {
      "text/plain": [
       "4×4 Matrix{ComplexF64}:\n",
       " 1.0+0.0im  0.0+0.0im  0.0+0.0im  0.0+0.0im\n",
       " 0.0+0.0im  0.0+1.0im  0.0+0.0im  0.0+0.0im\n",
       " 0.0+0.0im  0.0+0.0im  0.0+1.0im  0.0+0.0im\n",
       " 0.0+0.0im  0.0+0.0im  0.0+0.0im  1.0+0.0im"
      ]
     },
     "execution_count": 47,
     "metadata": {},
     "output_type": "execute_result"
    }
   ],
   "source": [
    "πgate = global_phase(π/4) * rzz(π/2)\n",
    "\n",
    "πgate |> sparsefy"
   ]
  },
  {
   "cell_type": "markdown",
   "metadata": {},
   "source": [
    "\n",
    "### $C_{not}$ as a $C_Z$ interaction\n",
    "This is a standard version since any controlled operation can be generated by a controlled-Z. In this case, the $C_{not}$ gate consists in a $C_Z$ enclosed by $R_Y(\\pi/2)$ rotations on the target qubit,\n",
    "\n",
    "$$C_{not} = \\big[ \\mathbb{I} \\otimes R_Y(\\pi/2) \\big] \\,\n",
    "C_Z \\,\n",
    "\\big[ \\mathbb{I} \\otimes R_Y(-\\pi/2) \\big] .$$"
   ]
  },
  {
   "cell_type": "code",
   "execution_count": 7,
   "metadata": {},
   "outputs": [
    {
     "data": {
      "text/plain": [
       "4×4 Matrix{Int64}:\n",
       " 1  0  0  0\n",
       " 0  1  0  0\n",
       " 0  0  0  1\n",
       " 0  0  1  0"
      ]
     },
     "execution_count": 7,
     "metadata": {},
     "output_type": "execute_result"
    }
   ],
   "source": [
    "cnot_cz = (id ⊗ ry(π/2)) * czgate * (id ⊗ ry(-π/2))\n",
    "\n",
    "cnot_cz |> real |> roundint "
   ]
  },
  {
   "cell_type": "markdown",
   "metadata": {},
   "source": [
    "### $C_{not}$ as a $R_{ZZ}$ interaction\n",
    "A more realistic implementation of the $C_{not}$ combines a $R_{ZZ}$ with a $R_X$ and $R_Y$ on the target qubit. We start considering the fact that\n",
    "$$R_Y = SR_X S^\\dagger\\quad \\text{and} \\quad S^\\dagger S^\\dagger = Z .$$\n",
    "\n",
    "We these two equalities we can write\n",
    "$$R_Y(\\theta/2) \\,S\\, R_X(-\\theta/2) = S\\,R_X(\\theta/2)\\,R_X(-\\theta/2) = S$$\n",
    "and\n",
    "$$R_Y(\\theta/2) \\,iS^\\dagger \\, R_X(-\\theta/2) = iS\\,R_X(\\theta/2)\\,Z\\,R_X(-\\theta/2) = iS\\,R_X(\\theta)\\,Z = iR_Y(\\theta)\\,ZS.$$\n",
    "\n",
    "We can combine the both expression above in a matrix for,\n",
    "$$\\begin{bmatrix}\n",
    "R_Y(\\theta/2) & 0 \\\\\n",
    "0 & R_Y(\\theta/2) \n",
    "\\end{bmatrix} \\begin{bmatrix}\n",
    "S & 0 \\\\\n",
    "0 & iS^\\dagger \n",
    "\\end{bmatrix} \\begin{bmatrix}\n",
    "R_X(-\\theta/2) & 0 \\\\\n",
    "0 & R_X(-\\theta/2) \n",
    "\\end{bmatrix} = \\begin{bmatrix}\n",
    "S & 0 \\\\\n",
    "0 & iR_Y(\\theta)\\,ZS \n",
    "\\end{bmatrix} .$$\n",
    "\n",
    "For $\\theta=\\pi$ we have $R_Y(\\pi)\\,Z=X$ which implies\n",
    "$$\\begin{bmatrix}\n",
    "S & 0 \\\\\n",
    "0 & iR_Y(\\pi)\\,ZS \n",
    "\\end{bmatrix} = \\begin{bmatrix}\n",
    "\\mathbb{I} & 0 \\\\\n",
    "0 & X \n",
    "\\end{bmatrix} \\begin{bmatrix}\n",
    "S & 0 \\\\\n",
    "0 & iS \n",
    "\\end{bmatrix} = \\begin{bmatrix}\n",
    "\\mathbb{I} & 0 \\\\\n",
    "0 & X \n",
    "\\end{bmatrix} \\begin{bmatrix}\n",
    "\\mathbb{I} & 0 \\\\\n",
    "0 & i \n",
    "\\end{bmatrix} \\begin{bmatrix}\n",
    "S & 0 \\\\\n",
    "0 & S \n",
    "\\end{bmatrix} .$$\n",
    "\n",
    "Writing it in term of gates we find\n",
    "$$\\begin{bmatrix}\n",
    "\\mathbb{I} & 0 \\\\\n",
    "0 & X \n",
    "\\end{bmatrix} \\begin{bmatrix}\n",
    "\\mathbb{I} & 0 \\\\\n",
    "0 & i \n",
    "\\end{bmatrix} \\begin{bmatrix}\n",
    "S & 0 \\\\\n",
    "0 & S \n",
    "\\end{bmatrix} = C_{not} \\, (S \\otimes S) .$$\n",
    "As the final expression\n",
    "$$\\begin{aligned}\n",
    "C_{not}\n",
    "&= \\big[\\mathbb{I} \\otimes R_Y(\\pi/2) \\big] \\,\\Pi\\, \\big[\\mathbb{I} \\otimes R_X(-\\pi/2) \\big] \\, (S^\\dagger \\otimes S^\\dagger) \\\\[.5em]\n",
    "&= e^{-i\\frac{\\pi}{4}} \\big[\\mathbb{I} \\otimes R_Y(\\pi/2) \\big] \\,R_{ZZ}(\\pi/2)\\, \\big[\\mathbb{I} \\otimes R_X(-\\pi/2) \\big] \\, \\big[ R_Z(-\\pi/2) \\otimes R_Z(-\\pi/2) \\big]\n",
    "\\end{aligned} .$$"
   ]
  },
  {
   "cell_type": "code",
   "execution_count": 123,
   "metadata": {},
   "outputs": [
    {
     "data": {
      "text/plain": [
       "4×4 Matrix{Int64}:\n",
       " 1  0  0  0\n",
       " 0  1  0  0\n",
       " 0  0  0  1\n",
       " 0  0  1  0"
      ]
     },
     "execution_count": 123,
     "metadata": {},
     "output_type": "execute_result"
    }
   ],
   "source": [
    "cnot_zz = (id ⊗ ry(π/2)) * πgate * (id ⊗ rx(-π/2)) * (sgate' ⊗ sgate')\n",
    "\n",
    "cnot_zz |> real |> roundint "
   ]
  },
  {
   "cell_type": "markdown",
   "metadata": {},
   "source": [
    "### $C_Z$ as a $R_{ZZ}$ interaction\n",
    "Starting from the $\\Pi$ gate we have\n",
    "$$\\begin{bmatrix}\n",
    "S & 0 \\\\\n",
    "0 & iS^\\dagger\n",
    "\\end{bmatrix} \\implies \\begin{bmatrix}\n",
    "S & 0 \\\\\n",
    "0 & iS^\\dagger\n",
    "\\end{bmatrix} \\begin{bmatrix}\n",
    "S^\\dagger & 0 \\\\\n",
    "0 & S^\\dagger\n",
    "\\end{bmatrix} = \\begin{bmatrix}\n",
    "\\mathbb{I} & 0 \\\\\n",
    "0 & iZ\n",
    "\\end{bmatrix} = C_Z \\, (S \\otimes \\mathbb{I}) $$\n",
    "thus,\n",
    "$$C_Z\n",
    "= \\Pi \\, \\big(S^\\dagger \\otimes S^\\dagger)\n",
    "= e^{-i\\frac{\\pi}{4}} R_{ZZ}(\\pi/2) \\, \\big[ R_Z(-\\pi/2) \\otimes R_Z(-\\pi/2) \\big] .$$"
   ]
  },
  {
   "cell_type": "code",
   "execution_count": 115,
   "metadata": {},
   "outputs": [
    {
     "data": {
      "text/plain": [
       "4×4 Matrix{Int64}:\n",
       " 1  0  0   0\n",
       " 0  1  0   0\n",
       " 0  0  1   0\n",
       " 0  0  0  -1"
      ]
     },
     "execution_count": 115,
     "metadata": {},
     "output_type": "execute_result"
    }
   ],
   "source": [
    "cz_zz = πgate * (sgate' ⊗ sgate')\n",
    "\n",
    "cz_zz |> real |> roundint "
   ]
  },
  {
   "cell_type": "markdown",
   "metadata": {},
   "source": [
    "### $R_{XX}$, $R_{YY}$, $R_{XY}$, and $R_{YX}$ in terms of $R_{ZZ}$\n",
    "Since we can easily move $Z$ to $X$ or $Y$ by appling\n",
    "$$\\mathrm{H}Z \\mathrm{H} = X ,$$\n",
    "$$S\\mathrm{H}Z \\mathrm{H}S^\\dagger = Y ,$$\n",
    "we can algebricaly perfom the simple transformations\n",
    "$$\\mathrm{H} e^{i \\theta Z} \\mathrm{H} = e^{i \\theta X} ,$$\n",
    "$$S\\mathrm{H} e^{i \\theta Z} \\mathrm{H}S^\\dagger = e^{i \\theta Y} .$$\n",
    "\n",
    "However, as said above in the section about single gates, the Hadamard (and the phase gate as well) can be used as simple rotantion around $Y$ (and $X$ respectively),\n",
    "$$R_{XX}(\\theta) = \\big[ R_Y(\\pi/2) \\otimes R_Y(\\pi/2) \\big] \\,\n",
    "R_{ZZ}(\\theta) \\,\n",
    "\\big[ R_Y(-\\pi/2) \\otimes R_Y(-\\pi/2) \\big] ,$$\n",
    "$$R_{YY}(\\theta) = \\big[ R_X(-\\pi/2) \\otimes R_X(-\\pi/2) \\big] \\,\n",
    "R_{ZZ}(\\theta) \\,\n",
    "\\big[ R_X(\\pi/2) \\otimes R_X(\\pi/2) \\big] .$$"
   ]
  },
  {
   "cell_type": "code",
   "execution_count": 13,
   "metadata": {},
   "outputs": [],
   "source": [
    "rxx(θ) = (ry(π/2) ⊗ ry(π/2)) * rzz(θ) * (ry(-π/2) ⊗ ry(-π/2))\n",
    "\n",
    "ryy(θ) = (rx(-π/2) ⊗ rx(-π/2)) * rzz(θ) * (rx(π/2) ⊗ rx(π/2));"
   ]
  },
  {
   "cell_type": "markdown",
   "metadata": {},
   "source": [
    "Using the same principle we can create mixed rotarions $R_{XY}$ and $R_{YX}$,\n",
    "\n",
    "$$R_{XY}(\\theta) = \\big[ R_Y(\\pi/2) \\otimes R_X(-\\pi/2) \\big] \\,\n",
    "R_{ZZ}(\\theta) \\,\n",
    "\\big[ R_Y(-\\pi/2) \\otimes R_X(\\pi/2) \\big] ,$$\n",
    "\n",
    "$$R_{YX}(\\theta) = \\big[ R_X(-\\pi/2) \\otimes R_Y(\\pi/2) \\big] \\,\n",
    "R_{ZZ}(\\theta) \\,\n",
    "\\big[ R_X(\\pi/2) \\otimes R_Y(-\\pi/2) \\big] .$$"
   ]
  },
  {
   "cell_type": "code",
   "execution_count": 14,
   "metadata": {},
   "outputs": [],
   "source": [
    "rxy(θ) = (ry(π/2) ⊗ rx(-π/2)) * rzz(θ) * (ry(-π/2) ⊗ rx(π/2))\n",
    "\n",
    "ryx(θ) = (rx(-π/2) ⊗ ry(π/2)) * rzz(θ) * (rx(π/2) ⊗ ry(-π/2));"
   ]
  },
  {
   "cell_type": "markdown",
   "metadata": {},
   "source": [
    "It is importante to notice that since\n",
    "$$[XX,YY]=[XX,ZZ]=[YY,ZZ]=[XY,YX]=0$$\n",
    "the three rotations $R_{XX}$, $R_{YY}$, $R_{ZZ}$ communte with each other as well as $R_{XY}$ with $R_{YX}$. "
   ]
  },
  {
   "cell_type": "markdown",
   "metadata": {},
   "source": [
    "### Swap gate as $R_{ZZ}$ interaction\n",
    "Algebraically the swap gate can be written as\n",
    "$$Swap =\n",
    "\\frac{1}{2} \\left( \\mathbb{I} + \\vec{S}_1 \\cdot \\vec{S}_2 \\right) =\n",
    "\\frac{1}{2} \\left( \\mathbb{I} + X_1 X_2 + Y_1 Y_2 + Z_1 Z_2  \\right) .$$\n",
    "\n",
    "When the $C_{not}$ can be found as a primitive operation, the swap gate can be written as three alternated $C_{not}$ gates similar to the swap operation using XOR ports in classical computers. An alternative construction can be found using $R_{ZZ}$ interactions.\n",
    "\n",
    "Since the terms commute with each other we can start with a $R_{XX}$ rotation followed by a $R_{YY}$ rotation,\n",
    "$$R_{XX}(\\pi/2)\\,R_{YY}(\\pi/2) = \\begin{bmatrix}\n",
    "1 & 0 & 0 & -i \\\\\n",
    "0 & 1 & -i & 0 \\\\\n",
    "0 & -i & 1 & 0 \\\\\n",
    "-i & 0 & 0 & 1\n",
    "\\end{bmatrix} \\begin{bmatrix}\n",
    "1 & 0 & 0 & i \\\\\n",
    "0 & 1 & -i & 0 \\\\\n",
    "0 & -i & 1 & 0 \\\\\n",
    "i & 0 & 0 & 1\n",
    "\\end{bmatrix} = \\begin{bmatrix}\n",
    "1 & 0 & 0 & 0 \\\\\n",
    "0 & 0 & -i & 0 \\\\\n",
    "0 & -i & 0 & 0 \\\\\n",
    "0 & 0 & 0 & 1\n",
    "\\end{bmatrix} .$$\n",
    "\n",
    "and by applying a two-qubits phase gate we can obtain a $Swap$ gate\n",
    "$$\\begin{aligned}\n",
    "Swap\n",
    "&= R_{XX}(\\pi/2)\\,R_{YY}(\\pi/2)\\,\\Pi \\\\[.5em]\n",
    "&= e^{i\\frac{\\pi}{4}} \\, R_{XX}(\\pi/2) \\, R_{YY}(\\pi/2) \\, R_{ZZ}(\\pi/2)\n",
    "\\end{aligned} .$$"
   ]
  },
  {
   "cell_type": "code",
   "execution_count": 155,
   "metadata": {},
   "outputs": [
    {
     "data": {
      "text/plain": [
       "4×4 Matrix{Int64}:\n",
       " 1  0  0  0\n",
       " 0  0  1  0\n",
       " 0  1  0  0\n",
       " 0  0  0  1"
      ]
     },
     "execution_count": 155,
     "metadata": {},
     "output_type": "execute_result"
    }
   ],
   "source": [
    "swap_zz = rxx(π/2) * ryy(π/2) * πgate\n",
    "\n",
    "swap_zz |> real |> roundint "
   ]
  },
  {
   "cell_type": "markdown",
   "metadata": {},
   "source": [
    "---\n",
    "## Interactions with $\\sigma^+$ and $\\sigma^-$ using $R_{ZZ}$\n",
    "\n",
    "### $\\sigma^+ \\sigma^- + \\sigma^- \\sigma^+$ (flip-flop)\n",
    "This is a common rotation to simulate energy exchange because it excites one of the qubits in the same proportion it decays the other one. Since\n",
    "$$\\sigma^+ \\sigma^- + \\sigma^- \\sigma^+ = \\frac{XX + YY}{2}$$\n",
    "we can write\n",
    "$$e^{-i\\theta (\\sigma^+ \\sigma^- + \\sigma^- \\sigma^+)} = R_{XX}(\\theta)\\,R_{YY}(\\theta) .$$"
   ]
  },
  {
   "cell_type": "code",
   "execution_count": 18,
   "metadata": {},
   "outputs": [
    {
     "name": "stdout",
     "output_type": "stream",
     "text": [
      "4×4 Matrix{ComplexF64}:\n",
      "  1.0-0.0im  -0.0-0.0im   -0.0-0.0im   0.0+0.0im\n",
      "  0.0-0.0im   0.5-0.0im    0.0-0.87im  0.0+0.0im\n",
      "  0.0-0.0im   0.0-0.87im   0.5-0.0im   0.0+0.0im\n",
      " -0.0-0.0im  -0.0+0.0im   -0.0+0.0im   1.0-0.0im"
     ]
    }
   ],
   "source": [
    "flipflop_zz(θ) = rxx(θ) * ryy(θ)\n",
    "\n",
    "#example\n",
    "flipflop_zz(π/3) |> sparsefy |> fulldisplay"
   ]
  },
  {
   "cell_type": "markdown",
   "metadata": {},
   "source": [
    "### $i\\left(\\sigma^+ \\sigma^- - \\sigma^- \\sigma^+ \\right)$ (asymmetric flip-flop)\n",
    "Another useful rotation to simulation energy exchange is the asymmetric version of the flip-flop interaction\n",
    "$$i \\big(\\sigma^+ \\sigma^- - \\sigma^- \\sigma^+ \\big) = \\frac{XY - YX}{2}$$\n",
    "which produces the rotation\n",
    "$$e^{-i\\theta \\big[ i(\\sigma^+ \\sigma^- - \\sigma^- \\sigma^+) \\big]} = R_{XY}(\\theta)\\,R_{YX}(-\\theta) .$$"
   ]
  },
  {
   "cell_type": "code",
   "execution_count": 166,
   "metadata": {},
   "outputs": [
    {
     "name": "stdout",
     "output_type": "stream",
     "text": [
      "4×4 Matrix{ComplexF64}:\n",
      "  1.0+0.0im   -0.0+0.0im   0.0-0.0im   0.0+0.0im\n",
      "  0.0+0.0im    0.5+0.0im  0.87+0.0im  -0.0+0.0im\n",
      " -0.0-0.0im  -0.87+0.0im   0.5-0.0im   0.0-0.0im\n",
      "  0.0-0.0im    0.0+0.0im  -0.0-0.0im   1.0-0.0im"
     ]
    }
   ],
   "source": [
    "asym_flipflop_zz(θ) = rxy(θ) * ryx(-θ)\n",
    "\n",
    "# example\n",
    "asym_flipflop_zz(π/3) |> sparsefy |> fulldisplay"
   ]
  },
  {
   "cell_type": "markdown",
   "metadata": {},
   "source": [
    "### $\\sigma^+ \\sigma^+ + \\sigma^- \\sigma^-$ (sync)\n",
    "Analogous to the flip-flop interaction is the $\\sigma^+ \\sigma^+ + \\sigma^- \\sigma^-$ which rotations two qubits when they are in the same state\n",
    "$$\\sigma^+ \\sigma^+ + \\sigma^- \\sigma^- = \\frac{XX - YY}{2} .$$\n",
    "\n",
    "Such interaction produces the following rotation\n",
    "$$e^{-i\\theta (\\sigma^+ \\sigma^+ + \\sigma^- \\sigma^+)} = R_{XX}(\\theta)\\,R_{YY}(-\\theta) .$$"
   ]
  },
  {
   "cell_type": "code",
   "execution_count": 19,
   "metadata": {},
   "outputs": [
    {
     "name": "stdout",
     "output_type": "stream",
     "text": [
      "4×4 Matrix{ComplexF64}:\n",
      "  0.5-0.0im   0.0-0.0im  0.0-0.0im   0.0-0.87im\n",
      " -0.0-0.0im   1.0+0.0im  0.0+0.0im  -0.0+0.0im\n",
      " -0.0-0.0im   0.0+0.0im  1.0+0.0im  -0.0+0.0im\n",
      " -0.0-0.87im  0.0+0.0im  0.0+0.0im   0.5+0.0im"
     ]
    }
   ],
   "source": [
    "sync_zz(θ) = rxx(θ) * ryy(-θ)\n",
    "\n",
    "sync_zz(π/3) |> sparsefy |> fulldisplay"
   ]
  },
  {
   "cell_type": "markdown",
   "metadata": {},
   "source": [
    "### $i\\left(\\sigma^+ \\sigma^+ - \\sigma^- \\sigma^- \\right)$ (asymmetric sync)\n",
    "As the flip-flop operations, the synchronous rotations also has an asymmetric version\n",
    "$$i \\big( \\sigma^+ \\sigma^+ - \\sigma^- \\sigma^- \\big) = \\frac{XY + YX}{2}$$\n",
    "which results in\n",
    "$$e^{-i\\theta \\big[ i(\\sigma^+ \\sigma^+ - \\sigma^- \\sigma^-) \\big]} = R_{XY}(\\theta)\\,R_{YX}(\\theta) .$$"
   ]
  },
  {
   "cell_type": "code",
   "execution_count": 21,
   "metadata": {},
   "outputs": [
    {
     "name": "stdout",
     "output_type": "stream",
     "text": [
      "4×4 Matrix{ComplexF64}:\n",
      "  0.5+0.0im  -0.0-0.0im  -0.0-0.0im  -0.87+0.0im\n",
      "  0.0-0.0im   1.0+0.0im  -0.0-0.0im    0.0+0.0im\n",
      "  0.0-0.0im  -0.0+0.0im   1.0+0.0im    0.0+0.0im\n",
      " 0.87-0.0im  -0.0+0.0im  -0.0+0.0im    0.5+0.0im"
     ]
    }
   ],
   "source": [
    "asym_sync_zz(θ) = rxy(θ) * ryx(θ)\n",
    "\n",
    "asym_sync_zz(π/3) |> sparsefy |> fulldisplay"
   ]
  },
  {
   "cell_type": "markdown",
   "metadata": {},
   "source": [
    "## References\n",
    "_**TODO...**_"
   ]
  }
 ],
 "metadata": {
  "interpreter": {
   "hash": "482c9a1e58dabb7d95037896c57d7c11eb48a1836b1d6c285b4d979ad285f5d2"
  },
  "kernelspec": {
   "display_name": "Julia 1.7.1",
   "language": "julia",
   "name": "julia-1.7"
  },
  "language_info": {
   "file_extension": ".jl",
   "mimetype": "application/julia",
   "name": "julia",
   "version": "1.7.1"
  },
  "orig_nbformat": 4
 },
 "nbformat": 4,
 "nbformat_minor": 2
}
