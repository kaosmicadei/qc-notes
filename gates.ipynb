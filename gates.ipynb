{
 "cells": [
  {
   "cell_type": "markdown",
   "metadata": {},
   "source": [
    "# quantum gates"
   ]
  },
  {
   "cell_type": "code",
   "execution_count": 1,
   "metadata": {},
   "outputs": [],
   "source": [
    "using LinearAlgebra"
   ]
  },
  {
   "cell_type": "markdown",
   "metadata": {},
   "source": [
    "First, let's define some useful functions to improve readability"
   ]
  },
  {
   "cell_type": "code",
   "execution_count": 2,
   "metadata": {},
   "outputs": [],
   "source": [
    "# convert the Kronecker product into an operator instead of a function\n",
    "⊗ = kron\n",
    "\n",
    "# replace small numbers by zero to\n",
    "sparsefy(m) = round.(m; digits=2)\n",
    "\n",
    "# visualise in terms of 0s and 1s\n",
    "roundint(m) = round.(Int,m)\n",
    "\n",
    "# avoid hide rows and columns specially in complex matrices\n",
    "fulldisplay(x) = show(IOContext(stdout, :limit=>false), MIME\"text/plain\"(), x)\n",
    "\n",
    "# some gates combinations differ from the standard implementation only by a global phase\n",
    "# in order to guarantee we have the right gate we can add the extra phase manually. The\n",
    "# negative sign here is to facilitate the connection between code and mathematical notation.\n",
    "global_phase(θ) = exp(-im * θ);"
   ]
  },
  {
   "cell_type": "markdown",
   "metadata": {},
   "source": [
    "## Primitive gates"
   ]
  },
  {
   "cell_type": "code",
   "execution_count": 3,
   "metadata": {},
   "outputs": [
    {
     "data": {
      "text/plain": [
       "2×2 Matrix{Int64}:\n",
       " 1   0\n",
       " 0  -1"
      ]
     },
     "execution_count": 3,
     "metadata": {},
     "output_type": "execute_result"
    }
   ],
   "source": [
    "id = Matrix(I,2,2)\n",
    "xgate = [0 1; 1 0]\n",
    "ygate = [0 -im; im 0]\n",
    "zgate = [1 0; 0 -1]"
   ]
  },
  {
   "cell_type": "markdown",
   "metadata": {},
   "source": [
    "### two-qubits gates\n",
    "These gates can actually be implemented in terms of each other so, it's enough that one of than is available as a native operation. Usually that means the $Z \\otimes Z$ interaction since most of physical system falls either in the Ising model\n",
    "$$H_{ising} = - \\sum_n \\omega_n \\sigma_n^z - \\sum_{i,j} J_{ij} \\sigma_i^z \\sigma_j^z$$\n",
    "or in the Heisenberg model\n",
    "$$H_{heisenberg} = - \\sum_n \\omega_n \\sigma_n^z - \\sum_n J_n^x \\sigma_n^x \\sigma_{n+1}^x - \\sum_n J_n^y \\sigma_n^y \\sigma_{n+1}^y - \\sum_n J_n^z \\sigma_n^z \\sigma_{n+1}^z$$\n"
   ]
  },
  {
   "cell_type": "code",
   "execution_count": 4,
   "metadata": {},
   "outputs": [],
   "source": [
    "zzgate = zgate ⊗ zgate\n",
    "\n",
    "czgate = [1 0 0 0;\n",
    "          0 1 0 0;\n",
    "          0 0 1 0;\n",
    "          0 0 0 -1]\n",
    "\n",
    "cnotgate = [1 0 0 0;\n",
    "            0 1 0 0;\n",
    "            0 0 0 1;\n",
    "            0 0 1 0]\n",
    "\n",
    "swapgate = [1 0 0 0;\n",
    "            0 0 1 0;\n",
    "            0 1 0 0;\n",
    "            0 0 0 1];"
   ]
  },
  {
   "cell_type": "markdown",
   "metadata": {},
   "source": [
    "## Primitive rotations\n",
    "From the primitive gates we can implement the basic local rotation that are actually used as gates in physicial implmentations."
   ]
  },
  {
   "cell_type": "code",
   "execution_count": 5,
   "metadata": {},
   "outputs": [],
   "source": [
    "rx(θ) = exp(-im * θ/2 * xgate)\n",
    "ry(θ) = exp(-im * θ/2 * ygate)\n",
    "rz(θ) = exp(-im * θ/2 * zgate)\n",
    "\n",
    "# As said before, the Z⊗Z interaction may be a primitive gate so we add it as a primitive rotation\n",
    "rzz(θ) = exp(-im * θ/2 * zzgate);"
   ]
  },
  {
   "cell_type": "markdown",
   "metadata": {},
   "source": [
    "Note all the rotations a defined with the half of the angle, $e^{-i\\frac{\\theta}{2} G}$, as in the standard form for ½-spin evolution."
   ]
  },
  {
   "cell_type": "markdown",
   "metadata": {},
   "source": [
    "## Factorising single-qubits gates\n",
    "\n",
    "### Hadamard\n",
    "The standard Hadamard gate\n",
    "$$\\mathrm{H} = \\frac{1}{\\sqrt{2}} \\begin{bmatrix}\n",
    "1 & 1 \\\\\n",
    "1 & -1\n",
    "\\end{bmatrix}$$\n",
    "is not a primitive gate. However, using the Bloch sphere, is easy to see it as a $\\frac{\\pi}{2}$ rotation around $Y$-axis."
   ]
  },
  {
   "cell_type": "code",
   "execution_count": 6,
   "metadata": {},
   "outputs": [
    {
     "data": {
      "text/plain": [
       "2×2 Matrix{ComplexF64}:\n",
       " 0.707107+0.0im  -0.707107+0.0im\n",
       " 0.707107+0.0im   0.707107+0.0im"
      ]
     },
     "execution_count": 6,
     "metadata": {},
     "output_type": "execute_result"
    }
   ],
   "source": [
    "hadamard = ry(π/2)"
   ]
  },
  {
   "cell_type": "markdown",
   "metadata": {},
   "source": [
    "This rotation moves $|1\\rangle \\to -|-\\rangle$. In pratical terms this extra phase, usually, is irrelevante but we can add a $\\pi$ rotation around $Z$ direction to correct the phase."
   ]
  },
  {
   "cell_type": "code",
   "execution_count": 7,
   "metadata": {},
   "outputs": [
    {
     "data": {
      "text/plain": [
       "2×2 Matrix{ComplexF64}:\n",
       " 0.0-0.71im  -0.0-0.71im\n",
       " 0.0-0.71im   0.0+0.71im"
      ]
     },
     "execution_count": 7,
     "metadata": {},
     "output_type": "execute_result"
    }
   ],
   "source": [
    "hadamard = ry(π/2) * rz(π)\n",
    "\n",
    "hadamard |> sparsefy"
   ]
  },
  {
   "cell_type": "markdown",
   "metadata": {},
   "source": [
    "Now the only difference to the standard Hadamard is a $\\frac{\\pi}{2}$ phase."
   ]
  },
  {
   "cell_type": "code",
   "execution_count": 8,
   "metadata": {},
   "outputs": [
    {
     "data": {
      "text/plain": [
       "2×2 Matrix{Float64}:\n",
       " 0.707107   0.707107\n",
       " 0.707107  -0.707107"
      ]
     },
     "execution_count": 8,
     "metadata": {},
     "output_type": "execute_result"
    }
   ],
   "source": [
    "hadamard = global_phase(-π/2) * ry(π/2) * rz(π)\n",
    "\n",
    "hadamard |> real"
   ]
  },
  {
   "cell_type": "markdown",
   "metadata": {},
   "source": [
    "In mathematical terms we have\n",
    "$$\\mathrm{H} = \\frac{1}{\\sqrt{2}} \\,\\begin{bmatrix}\n",
    "1 & 1 \\\\\n",
    "1 & -1\n",
    "\\end{bmatrix} = e^{-i\\frac{\\pi}{2}} R_Y (\\pi/2) R_Z (\\pi) .$$"
   ]
  },
  {
   "cell_type": "markdown",
   "metadata": {},
   "source": [
    "## Factorising two-qubits gates\n",
    "\n",
    "### $C_{not}$ as a $C_Z$ interaction\n",
    "This is a standard version since any controlled operation can be generated by a controlled-Z."
   ]
  },
  {
   "cell_type": "code",
   "execution_count": 9,
   "metadata": {},
   "outputs": [
    {
     "data": {
      "text/plain": [
       "4×4 Matrix{Int64}:\n",
       " 1  0  0  0\n",
       " 0  1  0  0\n",
       " 0  0  0  1\n",
       " 0  0  1  0"
      ]
     },
     "execution_count": 9,
     "metadata": {},
     "output_type": "execute_result"
    }
   ],
   "source": [
    "cnot_cz = (id ⊗ ry(π/2)) * czgate * (id ⊗ ry(-π/2))\n",
    "\n",
    "cnot_cz |> real |> roundint "
   ]
  },
  {
   "cell_type": "markdown",
   "metadata": {},
   "source": [
    "$$C_{not} = \\big[ \\mathbb{I} \\otimes R_Y(\\pi/2) \\big] \\,\n",
    "C_Z \\,\n",
    "\\big[ \\mathbb{I} \\otimes R_Y^\\dagger(\\pi/2) \\big] .$$\n",
    "\n",
    "Note that the $R_Y$ goes on the target qubit."
   ]
  },
  {
   "cell_type": "markdown",
   "metadata": {},
   "source": [
    "### $C_{not}$ as a $R_{ZZ}$ interaction\n",
    "A common implementation in NMR combines a $R_{ZZ}$ with two local operations in $X$ and $Y$ direction. The basic version is the following"
   ]
  },
  {
   "cell_type": "code",
   "execution_count": 10,
   "metadata": {},
   "outputs": [
    {
     "name": "stdout",
     "output_type": "stream",
     "text": [
      "4×4 Matrix{ComplexF64}:\n",
      " 0.71-0.71im   0.0-0.0im     0.0+0.0im    0.0+0.0im\n",
      " -0.0-0.0im   0.71+0.71im    0.0+0.0im    0.0+0.0im\n",
      "  0.0+0.0im    0.0+0.0im     0.0+0.0im   0.71-0.71im\n",
      "  0.0+0.0im    0.0+0.0im   -0.71-0.71im   0.0-0.0im"
     ]
    }
   ],
   "source": [
    "cnot_zz = (id ⊗ ry(-π/2)) * rzz(π/2) * (id ⊗ rx(π/2))\n",
    "\n",
    "cnot_zz |> sparsefy |> fulldisplay"
   ]
  },
  {
   "cell_type": "markdown",
   "metadata": {},
   "source": [
    "Although it doesn't look like to standard Cnot gate, it can be seem as a Cnot followed by two local $R_Z$ rotations in opposite direction."
   ]
  },
  {
   "cell_type": "code",
   "execution_count": 11,
   "metadata": {},
   "outputs": [
    {
     "name": "stdout",
     "output_type": "stream",
     "text": [
      "4×4 Matrix{ComplexF64}:\n",
      " 0.71-0.71im  -0.0-0.0im    0.0+0.0im    0.0+0.0im\n",
      " -0.0-0.0im   0.71-0.71im   0.0+0.0im    0.0+0.0im\n",
      "  0.0+0.0im    0.0+0.0im   -0.0+0.0im   0.71-0.71im\n",
      "  0.0+0.0im    0.0+0.0im   0.71-0.71im   0.0-0.0im"
     ]
    }
   ],
   "source": [
    "cnot_zz = (id ⊗ ry(-π/2)) * rzz(π/2) * (id ⊗ rx(π/2)) * (rz(π/2) ⊗ rz(-π/2))\n",
    "\n",
    "cnot_zz |> sparsefy |> fulldisplay"
   ]
  },
  {
   "cell_type": "markdown",
   "metadata": {},
   "source": [
    "This is exactly a cnot with a $\\frac{\\pi}{4}$ phase. In that case the full expresion would be like"
   ]
  },
  {
   "cell_type": "code",
   "execution_count": 12,
   "metadata": {},
   "outputs": [
    {
     "data": {
      "text/plain": [
       "4×4 Matrix{Int64}:\n",
       " 1  0  0  0\n",
       " 0  1  0  0\n",
       " 0  0  0  1\n",
       " 0  0  1  0"
      ]
     },
     "execution_count": 12,
     "metadata": {},
     "output_type": "execute_result"
    }
   ],
   "source": [
    "cnot_zz = global_phase(-π/4) * (id ⊗ ry(-π/2)) * rzz(π/2) * (id ⊗ rx(π/2)) * (rz(π/2) ⊗ rz(-π/2))\n",
    "\n",
    "cnot_zz |> real |> roundint "
   ]
  },
  {
   "cell_type": "markdown",
   "metadata": {},
   "source": [
    "$$C_{not} = e^{-i\\frac{\\pi}{4}}\n",
    "\\big[ \\mathbb{I} \\otimes R_Y^\\dagger(\\pi/2) \\big] \\,\n",
    "R_{ZZ}(\\pi/2) \\,\n",
    "\\big[ \\mathbb{I} \\otimes R_X(\\pi/2) \\big] \\,\n",
    "\\big[ R_Z(\\pi/2) \\otimes R_Z^\\dagger(\\pi/2) \\big] .$$"
   ]
  },
  {
   "cell_type": "markdown",
   "metadata": {},
   "source": [
    "### $C_Z$ as a $R_{ZZ}$\n",
    "In essence a $C_Z$ interaction can be seem as a $R_{ZZ}$ followed local $R_Z$ rotations in the same diretion. This construction only works for $\\frac{\\pi}{4}$ rotations"
   ]
  },
  {
   "cell_type": "code",
   "execution_count": 13,
   "metadata": {},
   "outputs": [
    {
     "name": "stdout",
     "output_type": "stream",
     "text": [
      "4×4 Matrix{ComplexF64}:\n",
      " 0.707107+0.707107im       0.0+0.0im            0.0+0.0im             0.0+0.0im\n",
      "      0.0+0.0im       0.707107+0.707107im       0.0+0.0im             0.0+0.0im\n",
      "      0.0+0.0im            0.0+0.0im       0.707107+0.707107im        0.0+0.0im\n",
      "      0.0+0.0im            0.0+0.0im            0.0+0.0im       -0.707107-0.707107im"
     ]
    }
   ],
   "source": [
    "cz_zz = rzz(π/2) * (rz(-π/2) ⊗ rz(-π/2))\n",
    "\n",
    "cz_zz |> fulldisplay"
   ]
  },
  {
   "cell_type": "markdown",
   "metadata": {},
   "source": [
    "Eliminating the $\\frac{\\pi}{4}$ phase we recover the $C_{ZZ}$ gate."
   ]
  },
  {
   "cell_type": "code",
   "execution_count": 14,
   "metadata": {},
   "outputs": [
    {
     "data": {
      "text/plain": [
       "4×4 Matrix{Int64}:\n",
       " 1  0  0   0\n",
       " 0  1  0   0\n",
       " 0  0  1   0\n",
       " 0  0  0  -1"
      ]
     },
     "execution_count": 14,
     "metadata": {},
     "output_type": "execute_result"
    }
   ],
   "source": [
    "cz_zz = global_phase(π/4) * rzz(π/2) * (rz(-π/2) ⊗ rz(-π/2))\n",
    "\n",
    "cz_zz |> real |> roundint "
   ]
  },
  {
   "cell_type": "markdown",
   "metadata": {},
   "source": [
    "$$C_Z = e^{i\\frac{\\pi}{4}} \\, R_{ZZ}(\\pi/2) \\,\n",
    "\\big[ R_Z^\\dagger (\\pi/2) \\otimes R_Z^\\dagger (\\pi/2) \\big] .$$"
   ]
  },
  {
   "cell_type": "markdown",
   "metadata": {},
   "source": [
    "### $R_{XX}$, $R_{YY}$, $R_{XY}$, and $R_{YX}$ in terms of $R_{ZZ}$\n",
    "Since we can easily move $Z$ to $X$ or $Y$,\n",
    "$$\\mathrm{H}Z \\mathrm{H} = X ,$$\n",
    "$$S\\mathrm{H}Z \\mathrm{H}S = Y ,$$\n",
    "we can algebricaly perfom the simple transformations\n",
    "$$\\mathrm{H} e^{i \\theta Z} \\mathrm{H} = e^{i \\theta X} ,$$\n",
    "$$S\\mathrm{H} e^{i \\theta Z} \\mathrm{H}S = e^{i \\theta Y} .$$\n",
    "\n",
    "However, as said above in the section about single gates, the Hadamard (and the phase gate as well) can be used as simple rotantion around $Y$ (and $X$ respectively),\n",
    "$$\\big[ R_Y(\\pi/2) \\otimes R_Y(\\pi/2) \\big] \\,\n",
    "e^{i \\theta Z} \\,\n",
    "\\big[ R_Y^\\dagger(\\pi/2) \\otimes R_Y^\\dagger(\\pi/2) \\big] \\to e^{i \\theta X} ,$$\n",
    "$$\\big[ R_X^\\dagger(\\pi/2) \\otimes R_X^\\dagger(\\pi/2) \\big] \\,\n",
    "e^{i \\theta Z} \\,\n",
    "\\big[ R_X(\\pi/2) \\otimes R_X(\\pi/2) \\big] \\to e^{i \\theta Y} .$$"
   ]
  },
  {
   "cell_type": "code",
   "execution_count": 15,
   "metadata": {},
   "outputs": [],
   "source": [
    "rxx(θ) = (ry(π/2) ⊗ ry(π/2)) * rzz(θ) * (ry(-π/2) ⊗ ry(-π/2))\n",
    "\n",
    "ryy(θ) = (rx(-π/2) ⊗ rx(-π/2)) * rzz(θ) * (rx(π/2) ⊗ rx(π/2));"
   ]
  },
  {
   "cell_type": "markdown",
   "metadata": {},
   "source": [
    "Using the same principle we can create mixed rotarions $R_{XY}$ and $R_{YX}$."
   ]
  },
  {
   "cell_type": "code",
   "execution_count": 16,
   "metadata": {},
   "outputs": [],
   "source": [
    "rxy(θ) = (ry(π/2) ⊗ rx(-π/2)) * rzz(θ) * (ry(-π/2) ⊗ rx(π/2))\n",
    "\n",
    "ryx(θ) = (rx(-π/2) ⊗ ry(π/2)) * rzz(θ) * (rx(π/2) ⊗ ry(-π/2));"
   ]
  },
  {
   "cell_type": "markdown",
   "metadata": {},
   "source": [
    "### Swap gate as $R_{Z}$\n",
    "Algebraically the swap gate can be written as\n",
    "$$Swap =\n",
    "\\frac{1}{2} \\left( \\mathbb{I} + \\vec{S}_1 \\cdot \\vec{S}_2 \\right) =\n",
    "\\frac{1}{2} \\left( \\mathbb{I} + X_1 X_2 + Y_1 Y_2 + Z_1 Z_2  \\right) .$$\n",
    "\n",
    "When the $C_{not}$ can be found as a primitive operation, the swap gate can be written as three alternated $C_{not}$ gates similar to the swap operation using XOR ports in classical computers.\n",
    "\n",
    "An alternative construction can be found using $R_{ZZ}$ interactions."
   ]
  },
  {
   "cell_type": "code",
   "execution_count": 17,
   "metadata": {},
   "outputs": [
    {
     "name": "stdout",
     "output_type": "stream",
     "text": [
      "4×4 Matrix{ComplexF64}:\n",
      " 0.71-0.71im  -0.0-0.0im   -0.0-0.0im    0.0+0.0im\n",
      " -0.0-0.0im    0.0+0.0im   0.71-0.71im   0.0-0.0im\n",
      " -0.0-0.0im   0.71-0.71im   0.0+0.0im    0.0-0.0im\n",
      "  0.0-0.0im   -0.0+0.0im   -0.0+0.0im   0.71-0.71im"
     ]
    }
   ],
   "source": [
    "swap_zz = (ry(π/2) ⊗ ry(π/2)) * rzz(π/2) * (ry(-π/2) ⊗ ry(-π/2)) *    # R_xx\n",
    "          (rx(-π/2) ⊗ rx(-π/2)) * rzz(π/2) * (rx(π/2) ⊗ rx(π/2)) *    # R_yy\n",
    "          rzz(π/2)\n",
    "\n",
    "swap_zz |> sparsefy|> fulldisplay"
   ]
  },
  {
   "cell_type": "markdown",
   "metadata": {},
   "source": [
    "which differs from the standard gate by a $\\frac{\\pi}{4}$ phase."
   ]
  },
  {
   "cell_type": "code",
   "execution_count": 18,
   "metadata": {},
   "outputs": [
    {
     "data": {
      "text/plain": [
       "4×4 Matrix{Int64}:\n",
       " 1  0  0  0\n",
       " 0  0  1  0\n",
       " 0  1  0  0\n",
       " 0  0  0  1"
      ]
     },
     "execution_count": 18,
     "metadata": {},
     "output_type": "execute_result"
    }
   ],
   "source": [
    "swap_zz = global_phase(-π/4) *\n",
    "          rxx(π/2) *\n",
    "          ryy(π/2) *\n",
    "          rzz(π/2)\n",
    "\n",
    "swap_zz |> real |> roundint "
   ]
  },
  {
   "cell_type": "markdown",
   "metadata": {},
   "source": [
    "In simple terms,\n",
    "$$Swap = e^{-i\\frac{\\pi}{4}} \\, R_{XX}(\\pi/2) \\, R_{YY}(\\pi/2) \\, R_{ZZ}(\\pi/2) .$$"
   ]
  },
  {
   "cell_type": "markdown",
   "metadata": {},
   "source": [
    "## Interactions using $\\sigma^+$ and $\\sigma^-$ using $R_{ZZ}$"
   ]
  },
  {
   "cell_type": "markdown",
   "metadata": {},
   "source": [
    "### $\\sigma^+ \\sigma^- + \\sigma^- \\sigma^+$ (flip-flop)\n",
    "Since\n",
    "$$\\frac{\\sigma^+ \\sigma^- + \\sigma^- \\sigma^+}{2} = XX + YY ,$$"
   ]
  },
  {
   "cell_type": "code",
   "execution_count": 19,
   "metadata": {},
   "outputs": [
    {
     "name": "stdout",
     "output_type": "stream",
     "text": [
      "4×4 Matrix{ComplexF64}:\n",
      "  1.0-0.0im  -0.0-0.0im   -0.0-0.0im   0.0+0.0im\n",
      "  0.0-0.0im   0.5-0.0im    0.0-0.87im  0.0+0.0im\n",
      "  0.0-0.0im   0.0-0.87im   0.5-0.0im   0.0+0.0im\n",
      " -0.0-0.0im  -0.0+0.0im   -0.0+0.0im   1.0-0.0im"
     ]
    }
   ],
   "source": [
    "flipflop_zz(θ) = rxx(θ) * ryy(θ)\n",
    "                \n",
    "flipflop_zz(π/3) |> sparsefy |> fulldisplay"
   ]
  },
  {
   "cell_type": "markdown",
   "metadata": {},
   "source": [
    "### $\\sigma^+ \\sigma^+ + \\sigma^- \\sigma^-$ (sync)\n",
    "Since\n",
    "$$\\frac{\\sigma^+ \\sigma^+ + \\sigma^- \\sigma^-}{2} = XX - YY ,$$"
   ]
  },
  {
   "cell_type": "code",
   "execution_count": 20,
   "metadata": {},
   "outputs": [
    {
     "name": "stdout",
     "output_type": "stream",
     "text": [
      "4×4 Matrix{ComplexF64}:\n",
      "  0.5-0.0im   0.0-0.0im  0.0-0.0im   0.0-0.87im\n",
      " -0.0-0.0im   1.0+0.0im  0.0+0.0im  -0.0+0.0im\n",
      " -0.0-0.0im   0.0+0.0im  1.0+0.0im  -0.0+0.0im\n",
      " -0.0-0.87im  0.0+0.0im  0.0+0.0im   0.5+0.0im"
     ]
    }
   ],
   "source": [
    "sync_zz(θ) = rxx(θ) * ryy(-θ)\n",
    "                \n",
    "sync_zz(π/3) |> sparsefy |> fulldisplay"
   ]
  },
  {
   "cell_type": "markdown",
   "metadata": {},
   "source": [
    "### $i\\left(\\sigma^+ \\sigma^- - \\sigma^- \\sigma^+ \\right)$ (asymmetric flip-flop)\n",
    "Since\n",
    "$$i \\frac{\\sigma^+ \\sigma^- - \\sigma^- \\sigma^+}{2} = XY - YX ,$$"
   ]
  },
  {
   "cell_type": "code",
   "execution_count": 21,
   "metadata": {},
   "outputs": [
    {
     "name": "stdout",
     "output_type": "stream",
     "text": [
      "4×4 Matrix{ComplexF64}:\n",
      "  1.0+0.0im   -0.0+0.0im   0.0-0.0im   0.0+0.0im\n",
      "  0.0+0.0im    0.5+0.0im  0.87+0.0im  -0.0+0.0im\n",
      " -0.0-0.0im  -0.87+0.0im   0.5-0.0im   0.0-0.0im\n",
      "  0.0-0.0im    0.0+0.0im  -0.0-0.0im   1.0-0.0im"
     ]
    }
   ],
   "source": [
    "asym_flipflop_zz(θ) = rxy(θ) * ryx(-θ)\n",
    "\n",
    "asym_flipflop_zz(π/3) |> sparsefy |> fulldisplay"
   ]
  },
  {
   "cell_type": "markdown",
   "metadata": {},
   "source": [
    "### $i\\left(\\sigma^+ \\sigma^+ - \\sigma^- \\sigma^- \\right)$ (asymmetric sync)\n",
    "Since\n",
    "$$i \\frac{\\sigma^+ \\sigma^+ - \\sigma^- \\sigma^-}{2} = XY + YX ,$$"
   ]
  },
  {
   "cell_type": "code",
   "execution_count": 22,
   "metadata": {},
   "outputs": [
    {
     "name": "stdout",
     "output_type": "stream",
     "text": [
      "4×4 Matrix{ComplexF64}:\n",
      "  0.5+0.0im  -0.0-0.0im  -0.0-0.0im  -0.87+0.0im\n",
      "  0.0-0.0im   1.0+0.0im  -0.0-0.0im    0.0+0.0im\n",
      "  0.0-0.0im  -0.0+0.0im   1.0+0.0im    0.0+0.0im\n",
      " 0.87-0.0im  -0.0+0.0im  -0.0+0.0im    0.5+0.0im"
     ]
    }
   ],
   "source": [
    "asym_sync_zz(θ) = rxy(θ) * ryx(θ)\n",
    "                \n",
    "asym_sync_zz(π/3) |> sparsefy |> fulldisplay"
   ]
  },
  {
   "cell_type": "markdown",
   "metadata": {},
   "source": [
    "## References\n",
    "_**TODO...**_"
   ]
  }
 ],
 "metadata": {
  "interpreter": {
   "hash": "482c9a1e58dabb7d95037896c57d7c11eb48a1836b1d6c285b4d979ad285f5d2"
  },
  "kernelspec": {
   "display_name": "Julia 1.7.1",
   "language": "julia",
   "name": "julia-1.7"
  },
  "language_info": {
   "file_extension": ".jl",
   "mimetype": "application/julia",
   "name": "julia",
   "version": "1.7.1"
  },
  "orig_nbformat": 4
 },
 "nbformat": 4,
 "nbformat_minor": 2
}
